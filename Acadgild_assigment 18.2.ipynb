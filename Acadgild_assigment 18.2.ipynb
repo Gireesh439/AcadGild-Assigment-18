{
 "cells": [
  {
   "cell_type": "code",
   "execution_count": null,
   "metadata": {},
   "outputs": [],
   "source": [
    "## Assignment 18.2\n",
    "\n",
    "#In one state, 52% of the voters are Republicans, and 48% are Democrats. In a second #state, 47% of the voters are Republicans, and 53% are Democrats. Suppose a simple\n",
    "#random sample of 100 voters are surveyed from each state.\n",
    "#What is the probability that the survey will show a greater percentage of Republican voters in the second state than in the first state?\n",
    "\n",
    "#M.Gireesh Kumar\n"
   ]
  },
  {
   "cell_type": "code",
   "execution_count": 1,
   "metadata": {},
   "outputs": [],
   "source": [
    "import pandas as pd\n",
    "import math as math\n",
    "import numpy as np\n",
    "    "
   ]
  },
  {
   "cell_type": "code",
   "execution_count": 3,
   "metadata": {},
   "outputs": [
    {
     "name": "stdout",
     "output_type": "stream",
     "text": [
      "0.050000000000000044\n"
     ]
    }
   ],
   "source": [
    "#Step 1 :Assign the values\n",
    "#let P1 = The proportion of Republican voters in the first state,\n",
    "#    P2 = The proportion of Republican voters in the second state,\n",
    "#    p1 = The proportion of Republican voters in the sample from the first state, \n",
    "#    p2 = The proportion of Republican voters in the sample from the second state.\n",
    "#    n1 = The number of voters sampled from the first state\n",
    "#    n2 = The number of voters sampled from the first state\n",
    "\n",
    "P1 =0.52 #(52/100)\n",
    "P2 =0.47 #(47/100)\n",
    "n1 =100\n",
    "n2 =100\n",
    "#Mean \n",
    "Mean = P1-P2\n",
    "print(Mean)"
   ]
  },
  {
   "cell_type": "code",
   "execution_count": 13,
   "metadata": {},
   "outputs": [
    {
     "name": "stdout",
     "output_type": "stream",
     "text": [
      "0.07061869440877536\n"
     ]
    }
   ],
   "source": [
    "#Standard Deviation\n",
    "#sqrt{ [ P1(1 - P1) / n1 ] + [ P2(1 - P2) / n2 ] } \n",
    "#def Standdev(P1,P2,n1,n2)\n",
    "total_sum1 = P1 * (1-P1) / n1\n",
    "total_sum2 = P2 * (1-P2) / n2\n",
    "total_sum = total_sum1 + total_sum2\n",
    "standdev = math.sqrt(total_sum)\n",
    "sd=standdev\n",
    "print(sd)"
   ]
  },
  {
   "cell_type": "code",
   "execution_count": 18,
   "metadata": {},
   "outputs": [
    {
     "name": "stdout",
     "output_type": "stream",
     "text": [
      "-0.7080278164104213\n"
     ]
    }
   ],
   "source": [
    "#Find the probability of p1 is less than p2 is equivalent to finding the probability of p1 - p2 is less than zero. To find this probability,\n",
    "#we need to transform the random variable (p1 - p2) into a z-score.\n",
    "X=0\n",
    "z_score = (X - Mean )/sd\n",
    "print(z_score)\n"
   ]
  },
  {
   "cell_type": "code",
   "execution_count": null,
   "metadata": {},
   "outputs": [],
   "source": [
    "#Using Stat Trek's Normal Distribution Calculator, we find that the probability of a z-score being -0.7082 or less is 0.24."
   ]
  },
  {
   "cell_type": "code",
   "execution_count": null,
   "metadata": {},
   "outputs": [],
   "source": []
  }
 ],
 "metadata": {
  "kernelspec": {
   "display_name": "Python 3",
   "language": "python",
   "name": "python3"
  },
  "language_info": {
   "codemirror_mode": {
    "name": "ipython",
    "version": 3
   },
   "file_extension": ".py",
   "mimetype": "text/x-python",
   "name": "python",
   "nbconvert_exporter": "python",
   "pygments_lexer": "ipython3",
   "version": "3.6.5"
  }
 },
 "nbformat": 4,
 "nbformat_minor": 2
}
